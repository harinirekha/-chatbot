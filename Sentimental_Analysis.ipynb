{
  "nbformat": 4,
  "nbformat_minor": 0,
  "metadata": {
    "colab": {
      "provenance": [],
      "authorship_tag": "ABX9TyO+KlWei0ro2JOdK90XwVHW",
      "include_colab_link": true
    },
    "kernelspec": {
      "name": "python3",
      "display_name": "Python 3"
    },
    "language_info": {
      "name": "python"
    }
  },
  "cells": [
    {
      "cell_type": "markdown",
      "metadata": {
        "id": "view-in-github",
        "colab_type": "text"
      },
      "source": [
        "<a href=\"https://colab.research.google.com/github/harinirekha/-chatbot/blob/main/Sentimental_Analysis.ipynb\" target=\"_parent\"><img src=\"https://colab.research.google.com/assets/colab-badge.svg\" alt=\"Open In Colab\"/></a>"
      ]
    },
    {
      "cell_type": "code",
      "execution_count": 4,
      "metadata": {
        "colab": {
          "base_uri": "https://localhost:8080/"
        },
        "id": "C0ZpOpyzModa",
        "outputId": "3b67873f-6999-448d-b912-86de97e2d0a7"
      },
      "outputs": [
        {
          "output_type": "stream",
          "name": "stderr",
          "text": [
            "[nltk_data] Downloading package punkt to /root/nltk_data...\n",
            "[nltk_data]   Package punkt is already up-to-date!\n",
            "[nltk_data] Downloading package stopwords to /root/nltk_data...\n",
            "[nltk_data]   Package stopwords is already up-to-date!\n"
          ]
        },
        {
          "output_type": "stream",
          "name": "stdout",
          "text": [
            "Enter your text: Average food wes served\n",
            "Predicted sentiment: neutral\n"
          ]
        }
      ],
      "source": [
        "import nltk\n",
        "from nltk.corpus import stopwords\n",
        "from sklearn.feature_extraction.text import TfidfVectorizer\n",
        "from sklearn.svm import SVC\n",
        "import string\n",
        "\n",
        "nltk.download('punkt')\n",
        "nltk.download('stopwords')\n",
        "\n",
        "data = [(\"I love this restaurant!\", \"positive\"),\n",
        "        (\"The food was terrible.\", \"negative\"),\n",
        "        (\"The service was okay.\", \"neutral\"),\n",
        "        (\"Great experience overall.\", \"positive\"),\n",
        "        (\"Average food was served.\",\"neutral\")]\n",
        "\n",
        "stop_words = set(stopwords.words('english'))\n",
        "\n",
        "def preprocess_text(text):\n",
        "    words = nltk.word_tokenize(text.lower())\n",
        "    filtered_words = [word for word in words if word.isalnum() and word not in stop_words and word not in string.punctuation]\n",
        "    return ' '.join(filtered_words)\n",
        "\n",
        "X = [preprocess_text(text) for text, _ in data]\n",
        "y = [sentiment for _, sentiment in data]\n",
        "\n",
        "vectorizer = TfidfVectorizer()\n",
        "X = vectorizer.fit_transform(X)\n",
        "\n",
        "svm_classifier = SVC(kernel='linear')\n",
        "svm_classifier.fit(X, y)\n",
        "\n",
        "def classify_user_input(input_text):\n",
        "    preprocessed_input = preprocess_text(input_text)\n",
        "    input_vectorized = vectorizer.transform([preprocessed_input])\n",
        "    predicted_sentiment = svm_classifier.predict(input_vectorized)[0]\n",
        "    return predicted_sentiment\n",
        "\n",
        "user_input = input(\"Enter your text: \")\n",
        "predicted_sentiment = classify_user_input(user_input)\n",
        "print(\"Predicted sentiment:\", predicted_sentiment)\n"
      ]
    }
  ]
}